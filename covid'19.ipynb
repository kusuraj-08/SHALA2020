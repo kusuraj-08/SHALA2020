{
  "nbformat": 4,
  "nbformat_minor": 0,
  "metadata": {
    "colab": {
      "name": "covid'19.ipynb",
      "provenance": [],
      "collapsed_sections": [],
      "include_colab_link": true
    },
    "kernelspec": {
      "name": "python3",
      "display_name": "Python 3"
    }
  },
  "cells": [
    {
      "cell_type": "markdown",
      "metadata": {
        "id": "view-in-github",
        "colab_type": "text"
      },
      "source": [
        "<a href=\"https://colab.research.google.com/github/kusuraj-08/SHALA2020/blob/master/covid'19.ipynb\" target=\"_parent\"><img src=\"https://colab.research.google.com/assets/colab-badge.svg\" alt=\"Open In Colab\"/></a>"
      ]
    },
    {
      "cell_type": "code",
      "metadata": {
        "id": "4yOTZOe_AodZ",
        "colab_type": "code",
        "colab": {
          "base_uri": "https://localhost:8080/",
          "height": 71
        },
        "outputId": "4ccc81ee-5168-4fcd-c031-1983844cb09c"
      },
      "source": [
        "import pandas as pd \n",
        "import numpy as np\n",
        "import matplotlib.pyplot as plt\n",
        "import seaborn as sns\n",
        "import datetime as dt\n",
        "from datetime import timedelta\n",
        "from sklearn.linear_model import LinearRegression\n",
        "from sklearn.svm import SVR\n",
        "from statsmodels.tsa.api import Holt\n"
      ],
      "execution_count": 1,
      "outputs": [
        {
          "output_type": "stream",
          "text": [
            "/usr/local/lib/python3.6/dist-packages/statsmodels/tools/_testing.py:19: FutureWarning: pandas.util.testing is deprecated. Use the functions in the public API at pandas.testing instead.\n",
            "  import pandas.util.testing as tm\n"
          ],
          "name": "stderr"
        }
      ]
    },
    {
      "cell_type": "code",
      "metadata": {
        "id": "30ieVY7lAGdB",
        "colab_type": "code",
        "colab": {
          "base_uri": "https://localhost:8080/",
          "height": 204
        },
        "outputId": "426667c9-7819-42e8-abba-db42a034bcc8"
      },
      "source": [
        "covid=pd.read_csv(\"covid_19_data.csv\")\n",
        "covid.head()"
      ],
      "execution_count": 2,
      "outputs": [
        {
          "output_type": "execute_result",
          "data": {
            "text/html": [
              "<div>\n",
              "<style scoped>\n",
              "    .dataframe tbody tr th:only-of-type {\n",
              "        vertical-align: middle;\n",
              "    }\n",
              "\n",
              "    .dataframe tbody tr th {\n",
              "        vertical-align: top;\n",
              "    }\n",
              "\n",
              "    .dataframe thead th {\n",
              "        text-align: right;\n",
              "    }\n",
              "</style>\n",
              "<table border=\"1\" class=\"dataframe\">\n",
              "  <thead>\n",
              "    <tr style=\"text-align: right;\">\n",
              "      <th></th>\n",
              "      <th>SNo</th>\n",
              "      <th>ObservationDate</th>\n",
              "      <th>Province/State</th>\n",
              "      <th>Country/Region</th>\n",
              "      <th>Last Update</th>\n",
              "      <th>Confirmed</th>\n",
              "      <th>Deaths</th>\n",
              "      <th>Recovered</th>\n",
              "    </tr>\n",
              "  </thead>\n",
              "  <tbody>\n",
              "    <tr>\n",
              "      <th>0</th>\n",
              "      <td>1</td>\n",
              "      <td>01/22/2020</td>\n",
              "      <td>Anhui</td>\n",
              "      <td>Mainland China</td>\n",
              "      <td>1/22/2020 17:00</td>\n",
              "      <td>1.0</td>\n",
              "      <td>0.0</td>\n",
              "      <td>0.0</td>\n",
              "    </tr>\n",
              "    <tr>\n",
              "      <th>1</th>\n",
              "      <td>2</td>\n",
              "      <td>01/22/2020</td>\n",
              "      <td>Beijing</td>\n",
              "      <td>Mainland China</td>\n",
              "      <td>1/22/2020 17:00</td>\n",
              "      <td>14.0</td>\n",
              "      <td>0.0</td>\n",
              "      <td>0.0</td>\n",
              "    </tr>\n",
              "    <tr>\n",
              "      <th>2</th>\n",
              "      <td>3</td>\n",
              "      <td>01/22/2020</td>\n",
              "      <td>Chongqing</td>\n",
              "      <td>Mainland China</td>\n",
              "      <td>1/22/2020 17:00</td>\n",
              "      <td>6.0</td>\n",
              "      <td>0.0</td>\n",
              "      <td>0.0</td>\n",
              "    </tr>\n",
              "    <tr>\n",
              "      <th>3</th>\n",
              "      <td>4</td>\n",
              "      <td>01/22/2020</td>\n",
              "      <td>Fujian</td>\n",
              "      <td>Mainland China</td>\n",
              "      <td>1/22/2020 17:00</td>\n",
              "      <td>1.0</td>\n",
              "      <td>0.0</td>\n",
              "      <td>0.0</td>\n",
              "    </tr>\n",
              "    <tr>\n",
              "      <th>4</th>\n",
              "      <td>5</td>\n",
              "      <td>01/22/2020</td>\n",
              "      <td>Gansu</td>\n",
              "      <td>Mainland China</td>\n",
              "      <td>1/22/2020 17:00</td>\n",
              "      <td>0.0</td>\n",
              "      <td>0.0</td>\n",
              "      <td>0.0</td>\n",
              "    </tr>\n",
              "  </tbody>\n",
              "</table>\n",
              "</div>"
            ],
            "text/plain": [
              "   SNo ObservationDate Province/State  ... Confirmed Deaths  Recovered\n",
              "0    1      01/22/2020          Anhui  ...       1.0    0.0        0.0\n",
              "1    2      01/22/2020        Beijing  ...      14.0    0.0        0.0\n",
              "2    3      01/22/2020      Chongqing  ...       6.0    0.0        0.0\n",
              "3    4      01/22/2020         Fujian  ...       1.0    0.0        0.0\n",
              "4    5      01/22/2020          Gansu  ...       0.0    0.0        0.0\n",
              "\n",
              "[5 rows x 8 columns]"
            ]
          },
          "metadata": {
            "tags": []
          },
          "execution_count": 2
        }
      ]
    },
    {
      "cell_type": "code",
      "metadata": {
        "id": "Gaia6rnpA9Ys",
        "colab_type": "code",
        "colab": {
          "base_uri": "https://localhost:8080/",
          "height": 340
        },
        "outputId": "4680329b-a6d6-4537-9967-0fba024321e1"
      },
      "source": [
        "print(\"Size/shape of the dataset\",covid.shape)\n",
        "print(\"Checking for null values\",covid.isnull().sum())\n",
        "print(\"Checking data-type\",covid.dtypes)"
      ],
      "execution_count": 3,
      "outputs": [
        {
          "output_type": "stream",
          "text": [
            "Size/shape of the dataset (18327, 8)\n",
            "Checking for null values SNo                   0\n",
            "ObservationDate       0\n",
            "Province/State     9277\n",
            "Country/Region        0\n",
            "Last Update           0\n",
            "Confirmed             0\n",
            "Deaths                0\n",
            "Recovered             0\n",
            "dtype: int64\n",
            "Checking data-type SNo                  int64\n",
            "ObservationDate     object\n",
            "Province/State      object\n",
            "Country/Region      object\n",
            "Last Update         object\n",
            "Confirmed          float64\n",
            "Deaths             float64\n",
            "Recovered          float64\n",
            "dtype: object\n"
          ],
          "name": "stdout"
        }
      ]
    },
    {
      "cell_type": "code",
      "metadata": {
        "id": "mDXC144SCDhk",
        "colab_type": "code",
        "colab": {}
      },
      "source": [
        "covid.drop([\"SNo\"],1,inplace=True)"
      ],
      "execution_count": 0,
      "outputs": []
    },
    {
      "cell_type": "code",
      "metadata": {
        "id": "7rYAhOXqCywT",
        "colab_type": "code",
        "colab": {
          "base_uri": "https://localhost:8080/",
          "height": 153
        },
        "outputId": "2caef863-f9af-473c-d368-02af61d5f759"
      },
      "source": [
        "covid.isnull().sum()"
      ],
      "execution_count": 5,
      "outputs": [
        {
          "output_type": "execute_result",
          "data": {
            "text/plain": [
              "ObservationDate       0\n",
              "Province/State     9277\n",
              "Country/Region        0\n",
              "Last Update           0\n",
              "Confirmed             0\n",
              "Deaths                0\n",
              "Recovered             0\n",
              "dtype: int64"
            ]
          },
          "metadata": {
            "tags": []
          },
          "execution_count": 5
        }
      ]
    },
    {
      "cell_type": "code",
      "metadata": {
        "id": "t1g46ZENDDDU",
        "colab_type": "code",
        "colab": {}
      },
      "source": [
        "covid[\"ObservationDate\"]=pd.to_datetime(covid[\"ObservationDate\"])"
      ],
      "execution_count": 0,
      "outputs": []
    },
    {
      "cell_type": "code",
      "metadata": {
        "id": "GXR73e55DzZc",
        "colab_type": "code",
        "colab": {
          "base_uri": "https://localhost:8080/",
          "height": 221
        },
        "outputId": "6e3296c0-3b81-4f24-9e4b-f33a656f09ec"
      },
      "source": [
        "covid[\"ObservationDate\"]"
      ],
      "execution_count": 7,
      "outputs": [
        {
          "output_type": "execute_result",
          "data": {
            "text/plain": [
              "0       2020-01-22\n",
              "1       2020-01-22\n",
              "2       2020-01-22\n",
              "3       2020-01-22\n",
              "4       2020-01-22\n",
              "           ...    \n",
              "18322   2020-04-24\n",
              "18323   2020-04-24\n",
              "18324   2020-04-24\n",
              "18325   2020-04-24\n",
              "18326   2020-04-24\n",
              "Name: ObservationDate, Length: 18327, dtype: datetime64[ns]"
            ]
          },
          "metadata": {
            "tags": []
          },
          "execution_count": 7
        }
      ]
    },
    {
      "cell_type": "code",
      "metadata": {
        "id": "sI68Bgv1EDqn",
        "colab_type": "code",
        "colab": {
          "base_uri": "https://localhost:8080/",
          "height": 450
        },
        "outputId": "d3f184f1-b6e7-49d7-e883-178758a75def"
      },
      "source": [
        "#Grouping different types of cases as per the date\n",
        "datawise=covid.groupby([\"ObservationDate\"]).agg({\"Confirmed\":\"sum\",\"Recovered\":\"sum\",\"Deaths\":\"sum\"})\n",
        "datawise"
      ],
      "execution_count": 8,
      "outputs": [
        {
          "output_type": "execute_result",
          "data": {
            "text/html": [
              "<div>\n",
              "<style scoped>\n",
              "    .dataframe tbody tr th:only-of-type {\n",
              "        vertical-align: middle;\n",
              "    }\n",
              "\n",
              "    .dataframe tbody tr th {\n",
              "        vertical-align: top;\n",
              "    }\n",
              "\n",
              "    .dataframe thead th {\n",
              "        text-align: right;\n",
              "    }\n",
              "</style>\n",
              "<table border=\"1\" class=\"dataframe\">\n",
              "  <thead>\n",
              "    <tr style=\"text-align: right;\">\n",
              "      <th></th>\n",
              "      <th>Confirmed</th>\n",
              "      <th>Recovered</th>\n",
              "      <th>Deaths</th>\n",
              "    </tr>\n",
              "    <tr>\n",
              "      <th>ObservationDate</th>\n",
              "      <th></th>\n",
              "      <th></th>\n",
              "      <th></th>\n",
              "    </tr>\n",
              "  </thead>\n",
              "  <tbody>\n",
              "    <tr>\n",
              "      <th>2020-01-22</th>\n",
              "      <td>555.0</td>\n",
              "      <td>28.0</td>\n",
              "      <td>17.0</td>\n",
              "    </tr>\n",
              "    <tr>\n",
              "      <th>2020-01-23</th>\n",
              "      <td>653.0</td>\n",
              "      <td>30.0</td>\n",
              "      <td>18.0</td>\n",
              "    </tr>\n",
              "    <tr>\n",
              "      <th>2020-01-24</th>\n",
              "      <td>941.0</td>\n",
              "      <td>36.0</td>\n",
              "      <td>26.0</td>\n",
              "    </tr>\n",
              "    <tr>\n",
              "      <th>2020-01-25</th>\n",
              "      <td>1438.0</td>\n",
              "      <td>39.0</td>\n",
              "      <td>42.0</td>\n",
              "    </tr>\n",
              "    <tr>\n",
              "      <th>2020-01-26</th>\n",
              "      <td>2118.0</td>\n",
              "      <td>52.0</td>\n",
              "      <td>56.0</td>\n",
              "    </tr>\n",
              "    <tr>\n",
              "      <th>...</th>\n",
              "      <td>...</td>\n",
              "      <td>...</td>\n",
              "      <td>...</td>\n",
              "    </tr>\n",
              "    <tr>\n",
              "      <th>2020-04-20</th>\n",
              "      <td>2472259.0</td>\n",
              "      <td>645738.0</td>\n",
              "      <td>169986.0</td>\n",
              "    </tr>\n",
              "    <tr>\n",
              "      <th>2020-04-21</th>\n",
              "      <td>2549123.0</td>\n",
              "      <td>679819.0</td>\n",
              "      <td>176583.0</td>\n",
              "    </tr>\n",
              "    <tr>\n",
              "      <th>2020-04-22</th>\n",
              "      <td>2623960.0</td>\n",
              "      <td>709694.0</td>\n",
              "      <td>183066.0</td>\n",
              "    </tr>\n",
              "    <tr>\n",
              "      <th>2020-04-23</th>\n",
              "      <td>2708885.0</td>\n",
              "      <td>738486.0</td>\n",
              "      <td>190858.0</td>\n",
              "    </tr>\n",
              "    <tr>\n",
              "      <th>2020-04-24</th>\n",
              "      <td>2811193.0</td>\n",
              "      <td>793601.0</td>\n",
              "      <td>197159.0</td>\n",
              "    </tr>\n",
              "  </tbody>\n",
              "</table>\n",
              "<p>94 rows × 3 columns</p>\n",
              "</div>"
            ],
            "text/plain": [
              "                 Confirmed  Recovered    Deaths\n",
              "ObservationDate                                \n",
              "2020-01-22           555.0       28.0      17.0\n",
              "2020-01-23           653.0       30.0      18.0\n",
              "2020-01-24           941.0       36.0      26.0\n",
              "2020-01-25          1438.0       39.0      42.0\n",
              "2020-01-26          2118.0       52.0      56.0\n",
              "...                    ...        ...       ...\n",
              "2020-04-20       2472259.0   645738.0  169986.0\n",
              "2020-04-21       2549123.0   679819.0  176583.0\n",
              "2020-04-22       2623960.0   709694.0  183066.0\n",
              "2020-04-23       2708885.0   738486.0  190858.0\n",
              "2020-04-24       2811193.0   793601.0  197159.0\n",
              "\n",
              "[94 rows x 3 columns]"
            ]
          },
          "metadata": {
            "tags": []
          },
          "execution_count": 8
        }
      ]
    },
    {
      "cell_type": "code",
      "metadata": {
        "id": "5EJ2IwGBGvS6",
        "colab_type": "code",
        "colab": {
          "base_uri": "https://localhost:8080/",
          "height": 119
        },
        "outputId": "4666c956-1154-4643-98ef-1bfa9acde256"
      },
      "source": [
        "print(\"Basic Information\")\n",
        "print(\"Total number of confirmed cases around the world\",datawise[\"Confirmed\"].iloc[-1])\n",
        "print(\"Total number of Recovered cases around the world\",datawise[\"Recovered\"].iloc[-1])\n",
        "print(\"Total number of Death cases around the world\",datawise[\"Deaths\"].iloc[-1])\n",
        "print(\"Total no. of active cases around the world\",(datawise['Confirmed'].iloc[-1]-datawise['Recovered'].iloc[-1]-datawise[\"Deaths\"].iloc[-1]))\n",
        "print(\"Total no. of closed cases around the world\",(datawise['Recovered'].iloc[-1]+datawise[\"Deaths\"].iloc[-1]))"
      ],
      "execution_count": 9,
      "outputs": [
        {
          "output_type": "stream",
          "text": [
            "Basic Information\n",
            "Total number of confirmed cases around the world 2811193.0\n",
            "Total number of Recovered cases around the world 793601.0\n",
            "Total number of Death cases around the world 197159.0\n",
            "Total no. of active cases around the world 1820433.0\n",
            "Total no. of closed cases around the world 990760.0\n"
          ],
          "name": "stdout"
        }
      ]
    },
    {
      "cell_type": "code",
      "metadata": {
        "id": "fDZQzUSbJmMU",
        "colab_type": "code",
        "colab": {
          "base_uri": "https://localhost:8080/",
          "height": 503
        },
        "outputId": "d246c300-051d-442c-fb21-9f3b4b45256a"
      },
      "source": [
        "plt.figure(figsize=(15,5))\n",
        "sns.barplot(x=datawise.index.date, y=datawise['Confirmed']-datawise['Recovered']-datawise[\"Deaths\"])\n",
        "plt.title(\"Distributions plot for Active Cases\")\n",
        "plt.xticks(rotation=90)"
      ],
      "execution_count": 10,
      "outputs": [
        {
          "output_type": "execute_result",
          "data": {
            "text/plain": [
              "(array([ 0,  1,  2,  3,  4,  5,  6,  7,  8,  9, 10, 11, 12, 13, 14, 15, 16,\n",
              "        17, 18, 19, 20, 21, 22, 23, 24, 25, 26, 27, 28, 29, 30, 31, 32, 33,\n",
              "        34, 35, 36, 37, 38, 39, 40, 41, 42, 43, 44, 45, 46, 47, 48, 49, 50,\n",
              "        51, 52, 53, 54, 55, 56, 57, 58, 59, 60, 61, 62, 63, 64, 65, 66, 67,\n",
              "        68, 69, 70, 71, 72, 73, 74, 75, 76, 77, 78, 79, 80, 81, 82, 83, 84,\n",
              "        85, 86, 87, 88, 89, 90, 91, 92, 93]),\n",
              " <a list of 94 Text major ticklabel objects>)"
            ]
          },
          "metadata": {
            "tags": []
          },
          "execution_count": 10
        },
        {
          "output_type": "display_data",
          "data": {
            "image/png": "[encoded data removed]",
            "text/plain": [
              "<Figure size 1080x360 with 1 Axes>"
            ]
          },
          "metadata": {
            "tags": [],
            "needs_background": "light"
          }
        }
      ]
    },
    {
      "cell_type": "code",
      "metadata": {
        "id": "l_BOGCUJKtGH",
        "colab_type": "code",
        "outputId": "96f6ddcc-c19c-48bc-fe8f-a14b6798657d",
        "colab": {
          "base_uri": "https://localhost:8080/",
          "height": 362
        }
      },
      "source": [
        "datawise['WeekofYear']=datawise.index.weekofyear\n",
        "weak_num=[]\n",
        "weakwise_confirmed=[]\n",
        "weakwise_recovered=[]\n",
        "weakwise_deaths=[]\n",
        "w=1\n",
        "for i in list(datawise[\"WeekofYear\"].unique()):\n",
        "  weakwise_confirmed.append(datawise[datawise[\"WeekofYear\"]==i][\"Confirmed\"].iloc[-1])\n",
        "  weakwise_recovered.append(datawise[datawise[\"WeekofYear\"]==i][\"Recovered\"].iloc[-1])\n",
        "  weakwise_deaths.append(datawise[datawise[\"WeekofYear\"]==i][\"Deaths\"].iloc[-1])\n",
        "  weak_num.append(w)\n",
        "  w=w+1\n",
        "plt.figure(figsize=(8,5))\n",
        "plt.plot(weak_num,weakwise_confirmed,linewidth=3) \n",
        "plt.plot(weak_num,weakwise_recovered,linewidth=3) \n",
        "plt.plot(weak_num,weakwise_deaths,linewidth=3)  \n",
        "plt.xlabel(\"WeakNumber\")\n",
        "plt.ylabel(\"Weakly Progress of different types of cases\")"
      ],
      "execution_count": 11,
      "outputs": [
        {
          "output_type": "execute_result",
          "data": {
            "text/plain": [
              "Text(0, 0.5, 'Weakly Progress of different types of cases')"
            ]
          },
          "metadata": {
            "tags": []
          },
          "execution_count": 11
        },
        {
          "output_type": "display_data",
          "data": {
            "image/png": "[encoded data removed]",
            "text/plain": [
              "<Figure size 576x360 with 1 Axes>"
            ]
          },
          "metadata": {
            "tags": [],
            "needs_background": "light"
          }
        }
      ]
    },
    {
      "cell_type": "code",
      "metadata": {
        "id": "hxgsBcA0YPnn",
        "colab_type": "code",
        "outputId": "cf41b66f-a57e-428d-e05c-9cbaa610974c",
        "colab": {
          "base_uri": "https://localhost:8080/",
          "height": 295
        }
      },
      "source": [
        "fig,(ax1,ax2)=plt.subplots(1,2,figsize=(12,4))\n",
        "sns.barplot(x=weak_num,y=pd.Series(weakwise_confirmed).diff().fillna(0),ax=ax1)\n",
        "#sns.barplot(x=weak_num,y=pd.Series(weakwise_recovered).diff().fillna(0),ax=ax1)\n",
        "sns.barplot(x=weak_num,y=pd.Series(weakwise_deaths).diff().fillna(0),ax=ax2)\n",
        "ax1.set_xlabel(\"Weak Number\")\n",
        "ax2.set_xlabel(\"Weak Number\")\n",
        "ax1.set_ylabel(\"Number of death cases\")\n",
        "ax2.set_ylabel(\"Number of death cases\")\n",
        "ax1.set_title(\"Weekly increase in number of confirmed cases\")\n",
        "ax2.set_title(\"Weekly increase in number of death cases\")\n",
        "plt.show()\n"
      ],
      "execution_count": 12,
      "outputs": [
        {
          "output_type": "display_data",
          "data": {
            "image/png": "[encoded data removed]",
            "text/plain": [
              "<Figure size 864x288 with 2 Axes>"
            ]
          },
          "metadata": {
            "tags": [],
            "needs_background": "light"
          }
        }
      ]
    },
    {
      "cell_type": "code",
      "metadata": {
        "id": "CM8ismm_aJcI",
        "colab_type": "code",
        "colab": {
          "base_uri": "https://localhost:8080/",
          "height": 483
        },
        "outputId": "2d018efb-aa2c-46a7-aec1-febda5e63eb9"
      },
      "source": [
        "print(\"Average increase in number of Confirmed cases everyday:\",np.round(datawise[\"Confirmed\"].diff().fillna(0).mean()))\n",
        "print(\"Average increase in number of Recovered cases everyday:\",np.round(datawise[\"Recovered\"].diff().fillna(0).mean()))\n",
        "print(\"Average increase in number of Deaths cases everyday:\",np.round(datawise[\"Deaths\"].diff().fillna(0).mean()))\n",
        "plt.figure(figsize=(10,5))\n",
        "plt.plot(datawise[\"Confirmed\"].diff().fillna(0),label=\"Daily increase in confirmed cases\",linewidth=3)\n",
        "plt.plot(datawise[\"Recovered\"].diff().fillna(0),label=\"Daily increase in recovered cases\",linewidth=3)\n",
        "plt.plot(datawise[\"Deaths\"].diff().fillna(0),label=\"Daily increase in deaths cases\",linewidth=3)\n",
        "plt.xlabel(\"Timestamp\")\n",
        "plt.ylabel(\"Daily increases\")\n",
        "plt.title(\"Daily increases\")\n",
        "plt.legend()\n",
        "plt.xticks(rotation=90)"
      ],
      "execution_count": 13,
      "outputs": [
        {
          "output_type": "stream",
          "text": [
            "Average increase in number of Confirmed cases everyday: 29900.0\n",
            "Average increase in number of Recovered cases everyday: 8442.0\n",
            "Average increase in number of Deaths cases everyday: 2097.0\n"
          ],
          "name": "stdout"
        },
        {
          "output_type": "execute_result",
          "data": {
            "text/plain": [
              "(array([737456., 737470., 737485., 737499., 737516., 737530.]),\n",
              " <a list of 6 Text major ticklabel objects>)"
            ]
          },
          "metadata": {
            "tags": []
          },
          "execution_count": 13
        },
        {
          "output_type": "display_data",
          "data": {
            "image/png": "[encoded data removed]",
            "text/plain": [
              "<Figure size 720x360 with 1 Axes>"
            ]
          },
          "metadata": {
            "tags": [],
            "needs_background": "light"
          }
        }
      ]
    },
    {
      "cell_type": "code",
      "metadata": {
        "id": "fRlsx42MdQTE",
        "colab_type": "code",
        "colab": {}
      },
      "source": [
        "#country wise analysis\n",
        "#Calculating Country wise Mortality rate\n",
        "countrywise=covid[covid[\"ObservationDate\"]==covid[\"ObservationDate\"].max()].groupby([\"Country/Region\"]).agg({\"Confirmed\":\"sum\",\"Recovered\":\"sum\",\"Deaths\":\"sum\"}).sort_values([\"Confirmed\"],ascending=False)\n",
        "countrywise[\"Mortality\"]=(countrywise[\"Deaths\"]/countrywise[\"Confirmed\"])*100\n",
        "countrywise[\"Mortality\"]=(countrywise[\"Recovered\"]/countrywise[\"Confirmed\"])*100"
      ],
      "execution_count": 0,
      "outputs": []
    },
    {
      "cell_type": "code",
      "metadata": {
        "id": "Rehd08Drfkfi",
        "colab_type": "code",
        "colab": {
          "base_uri": "https://localhost:8080/",
          "height": 533
        },
        "outputId": "02ae798f-2c1d-4245-b492-7874ea102740"
      },
      "source": [
        "fig,(ax1,ax2)=plt.subplots(1,2,figsize=(25,10))\n",
        "top_15confirmed=countrywise.sort_values([\"Confirmed\"],ascending=False).head(15)\n",
        "top_15deaths=countrywise.sort_values([\"Deaths\"],ascending=False).head(15)\n",
        "sns.barplot(x=top_15confirmed[\"Confirmed\"],y=top_15confirmed.index,ax=ax1)\n",
        "ax1.set_title(\"Top 15 countires as per number of confirmed cases\")\n",
        "sns.barplot(x=top_15deaths[\"Deaths\"],y=top_15deaths.index,ax=ax2)\n",
        "ax1.set_title(\"Top 15 countires as per number of deaths cases\")"
      ],
      "execution_count": 15,
      "outputs": [
        {
          "output_type": "execute_result",
          "data": {
            "text/plain": [
              "Text(0.5, 1.0, 'Top 15 countires as per number of deaths cases')"
            ]
          },
          "metadata": {
            "tags": []
          },
          "execution_count": 15
        },
        {
          "output_type": "display_data",
          "data": {
            "image/png": "[encoded data removed]",
            "text/plain": [
              "<Figure size 1800x720 with 2 Axes>"
            ]
          },
          "metadata": {
            "tags": [],
            "needs_background": "light"
          }
        }
      ]
    },
    {
      "cell_type": "code",
      "metadata": {
        "id": "uxbG3hoWg2O1",
        "colab_type": "code",
        "colab": {
          "base_uri": "https://localhost:8080/",
          "height": 119
        },
        "outputId": "98234372-7de8-4d7b-db4f-9020029e5889"
      },
      "source": [
        "#Data Analaysis for India\n",
        "india_data= covid[covid[\"Country/Region\"]==\"India\"]\n",
        "datawise_india=india_data.groupby([\"ObservationDate\"]).agg({\"Confirmed\":\"sum\",\"Recovered\":\"sum\",\"Deaths\":\"sum\"})\n",
        "print(datawise_india.iloc[-1])\n",
        "print(\"Total Active Cases\",datawise_india[\"Confirmed\"].iloc[-1]-datawise_india[\"Recovered\"].iloc[-1]-datawise_india[\"Deaths\"].iloc[-1])\n",
        "print(\"Total Closed cases\",datawise_india[\"Recovered\"].iloc[-1]+datawise_india[\"Deaths\"].iloc[-1])"
      ],
      "execution_count": 16,
      "outputs": [
        {
          "output_type": "stream",
          "text": [
            "Confirmed    24530.0\n",
            "Recovered     5498.0\n",
            "Deaths         780.0\n",
            "Name: 2020-04-24 00:00:00, dtype: float64\n",
            "Total Active Cases 18252.0\n",
            "Total Closed cases 6278.0\n"
          ],
          "name": "stdout"
        }
      ]
    },
    {
      "cell_type": "code",
      "metadata": {
        "id": "ia4vcx4oiaWC",
        "colab_type": "code",
        "colab": {
          "base_uri": "https://localhost:8080/",
          "height": 119
        },
        "outputId": "940b89f3-919b-4755-b1c4-b2ae0e5f4756"
      },
      "source": [
        "#Data Analaysis for US\n",
        "Us_data= covid[covid[\"Country/Region\"]==\"US\"]\n",
        "datawise_us=Us_data.groupby([\"ObservationDate\"]).agg({\"Confirmed\":\"sum\",\"Recovered\":\"sum\",\"Deaths\":\"sum\"})\n",
        "print(datawise_us.iloc[-1])\n",
        "print(\"Total Active Cases\",datawise_us[\"Confirmed\"].iloc[-1]-datawise_us[\"Recovered\"].iloc[-1]-datawise_us[\"Deaths\"].iloc[-1])\n",
        "print(\"Total Closed cases\",datawise_us[\"Recovered\"].iloc[-1]+datawise_us[\"Deaths\"].iloc[-1])"
      ],
      "execution_count": 17,
      "outputs": [
        {
          "output_type": "stream",
          "text": [
            "Confirmed    905333.0\n",
            "Recovered     99079.0\n",
            "Deaths        51949.0\n",
            "Name: 2020-04-24 00:00:00, dtype: float64\n",
            "Total Active Cases 754305.0\n",
            "Total Closed cases 151028.0\n"
          ],
          "name": "stdout"
        }
      ]
    },
    {
      "cell_type": "code",
      "metadata": {
        "id": "9gFz9sgKTwC3",
        "colab_type": "code",
        "colab": {
          "base_uri": "https://localhost:8080/",
          "height": 368
        },
        "outputId": "4d07d5cf-413c-45ca-9437-26b435d5ee94"
      },
      "source": [
        "datawise_india['WeekofYear']=datawise_india.index.weekofyear\n",
        "weak_num_india=[]\n",
        "weakwise_confirmed=[]\n",
        "weakwise_recovered=[]\n",
        "weakwise_deaths=[]\n",
        "w=1\n",
        "for i in list(datawise_india[\"WeekofYear\"].unique()):\n",
        "  weakwise_confirmed.append(datawise_india[datawise_india[\"WeekofYear\"]==i][\"Confirmed\"].iloc[-1])\n",
        "  weakwise_recovered.append(datawise_india[datawise_india[\"WeekofYear\"]==i][\"Recovered\"].iloc[-1])\n",
        "  weakwise_deaths.append(datawise_india[datawise_india[\"WeekofYear\"]==i][\"Deaths\"].iloc[-1])\n",
        "  weak_num_india.append(w)\n",
        "  w=w+1\n",
        "plt.figure(figsize=(8,5))\n",
        "plt.plot(weak_num_india,weakwise_confirmed,linewidth=3) \n",
        "plt.plot(weak_num_india,weakwise_recovered,linewidth=3) \n",
        "plt.plot(weak_num_india,weakwise_deaths,linewidth=3)  \n",
        "plt.xlabel(\"WeakNumber\")\n",
        "plt.ylabel(\"Weakly Progress of different types of cases\")\n",
        "plt.legend()"
      ],
      "execution_count": 18,
      "outputs": [
        {
          "output_type": "stream",
          "text": [
            "No handles with labels found to put in legend.\n"
          ],
          "name": "stderr"
        },
        {
          "output_type": "execute_result",
          "data": {
            "text/plain": [
              "<matplotlib.legend.Legend at 0x7fcbe42139e8>"
            ]
          },
          "metadata": {
            "tags": []
          },
          "execution_count": 18
        },
        {
          "output_type": "display_data",
          "data": {
            "image/png": "[encoded data removed]",
            "text/plain": [
              "<Figure size 576x360 with 1 Axes>"
            ]
          },
          "metadata": {
            "tags": [],
            "needs_background": "light"
          }
        }
      ]
    },
    {
      "cell_type": "code",
      "metadata": {
        "id": "EEfRnga9JLZm",
        "colab_type": "code",
        "colab": {
          "base_uri": "https://localhost:8080/",
          "height": 102
        },
        "outputId": "3f5e2c52-6f9c-4fdb-f396-1a3b4b470d7e"
      },
      "source": [
        "max_india= datawise_india[\"Confirmed\"].max()\n",
        "china_data= covid[covid[\"Country/Region\"]==\"Mainland China\"]\n",
        "Italy_data=covid[covid[\"Country/Region\"]==\"Italy\"]\n",
        "US_data=covid[covid[\"Country/Region\"]==\"US\"]\n",
        "spain_data=covid[covid[\"Country/Region\"]==\"Spain\"]\n",
        "datawise_china=china_data.groupby([\"ObservationDate\"]).agg({\"Confirmed\":\"sum\",\"Recovered\":\"sum\",\"Deaths\":\"sum\"})\n",
        "datawise_italy=Italy_data.groupby([\"ObservationDate\"]).agg({\"Confirmed\":\"sum\",\"Recovered\":\"sum\",\"Deaths\":\"sum\"})\n",
        "datawise_us=US_data.groupby([\"ObservationDate\"]).agg({\"Confirmed\":\"sum\",\"Recovered\":\"sum\",\"Deaths\":\"sum\"})\n",
        "datawise_spain=spain_data.groupby([\"ObservationDate\"]).agg({\"Confirmed\":\"sum\",\"Recovered\":\"sum\",\"Deaths\":\"sum\"})\n",
        "print(\"It took\",datawise_india[datawise_india[\"Confirmed\"]>0].shape[0],\"days in India to reach\",max_india,\"Confirmed Cases\")\n",
        "print(\"It took\",datawise_italy[(datawise_italy[\"Confirmed\"]>0) & (datawise_italy[\"Confirmed\"]<=max_india)].shape[0],\"days in italy to reach of Confirmed Cases\")\n",
        "print(\"It took\",datawise_us[(datawise_us[\"Confirmed\"]>0) & (datawise_us[\"Confirmed\"]<=max_india)].shape[0],\"days in US to reach of Confirmed Cases\")\n",
        "print(\"It took\",datawise_china[(datawise_china[\"Confirmed\"]>0) & (datawise_china[\"Confirmed\"]<=max_india)].shape[0],\"days in china to reach of Confirmed Cases\")\n",
        "print(\"It took\",datawise_spain[(datawise_spain[\"Confirmed\"]>0) & (datawise_spain[\"Confirmed\"]<=max_india)].shape[0],\"days in spain to reach of Confirmed Cases\")"
      ],
      "execution_count": 19,
      "outputs": [
        {
          "output_type": "stream",
          "text": [
            "It took 86 days in India to reach 24530.0 Confirmed Cases\n",
            "It took 44 days in italy to reach of Confirmed Cases\n",
            "It took 59 days in US to reach of Confirmed Cases\n",
            "It took 14 days in china to reach of Confirmed Cases\n",
            "It took 49 days in spain to reach of Confirmed Cases\n"
          ],
          "name": "stdout"
        }
      ]
    },
    {
      "cell_type": "code",
      "metadata": {
        "id": "ffqAqSK4YPwo",
        "colab_type": "code",
        "colab": {}
      },
      "source": [
        "datawise[\"Days Since\"]=datawise.index-datawise.index[0]\n",
        "datawise[\"Days Since\"]=datawise[\"Days Since\"].dt.days\n",
        "train_m1=datawise.iloc[:int(datawise.shape[0]*0.95)]\n",
        "valid_m1= datawise.iloc[:int(datawise.shape[0]*0.95):]\n",
        "model_scores=[]\n"
      ],
      "execution_count": 0,
      "outputs": []
    },
    {
      "cell_type": "code",
      "metadata": {
        "id": "MIIsEn-RbrZ4",
        "colab_type": "code",
        "colab": {
          "base_uri": "https://localhost:8080/",
          "height": 105
        },
        "outputId": "85bf2911-dd6f-45f1-c470-11252e04eaf9"
      },
      "source": [
        "lin_reg= LinearRegression(normalize=True)\n",
        "svm=SVR(C=1,degree=5,kernel='poly',epsilon=0.001)\n",
        "lin_reg.fit(np.array(train_m1[\"Days Since\"]).reshape(-1,1),np.array(train_m1[\"Confirmed\"]).reshape(-1,1))\n",
        "svm.fit(np.array(train_m1[\"Days Since\"]).reshape(-1,1),np.array(train_m1[\"Confirmed\"]).reshape(-1,1))"
      ],
      "execution_count": 21,
      "outputs": [
        {
          "output_type": "stream",
          "text": [
            "/usr/local/lib/python3.6/dist-packages/sklearn/utils/validation.py:760: DataConversionWarning: A column-vector y was passed when a 1d array was expected. Please change the shape of y to (n_samples, ), for example using ravel().\n",
            "  y = column_or_1d(y, warn=True)\n"
          ],
          "name": "stderr"
        },
        {
          "output_type": "execute_result",
          "data": {
            "text/plain": [
              "SVR(C=1, cache_size=200, coef0=0.0, degree=5, epsilon=0.001, gamma='scale',\n",
              "    kernel='poly', max_iter=-1, shrinking=True, tol=0.001, verbose=False)"
            ]
          },
          "metadata": {
            "tags": []
          },
          "execution_count": 21
        }
      ]
    },
    {
      "cell_type": "code",
      "metadata": {
        "id": "fUt0AedQdGRb",
        "colab_type": "code",
        "colab": {}
      },
      "source": [
        "prediction_vaild_lin_reg=lin_reg.predict(np.array(valid_m1[\"Days Since\"]).reshape(-1,1))\n",
        "prediction_valid_svm= svm.predict(np.array(valid_m1[\"Days Since\"]).reshape(-1,1))"
      ],
      "execution_count": 0,
      "outputs": []
    },
    {
      "cell_type": "code",
      "metadata": {
        "id": "yVhL3BwHeK7K",
        "colab_type": "code",
        "colab": {
          "base_uri": "https://localhost:8080/",
          "height": 514
        },
        "outputId": "25298277-298f-46f2-f091-ce9da3166a69"
      },
      "source": [
        "new_date=[]\n",
        "new_prediction_lr=[]\n",
        "new_prediction_svm=[]\n",
        "for i in range(1,18):\n",
        "  new_date.append(datawise.index[-1]+timedelta(days=i))\n",
        "  new_prediction_lr.append(lin_reg.predict(np.array(datawise[\"Days Since\"].max()+i).reshape(-1,1))[0][0])\n",
        "  new_prediction_svm.append(svm.predict(np.array(datawise[\"Days Since\"].max()+i).reshape(-1,1))[0])\n",
        "pd.set_option(\"display.float_format\",lambda x: '%.f'%x)\n",
        "model_predictions=pd.DataFrame(zip(new_date,new_prediction_lr,new_prediction_svm),columns= [\"Date\",\"LR\",\"SVM\"]) \n",
        "model_predictions.head(15)\n"
      ],
      "execution_count": 23,
      "outputs": [
        {
          "output_type": "execute_result",
          "data": {
            "text/html": [
              "<div>\n",
              "<style scoped>\n",
              "    .dataframe tbody tr th:only-of-type {\n",
              "        vertical-align: middle;\n",
              "    }\n",
              "\n",
              "    .dataframe tbody tr th {\n",
              "        vertical-align: top;\n",
              "    }\n",
              "\n",
              "    .dataframe thead th {\n",
              "        text-align: right;\n",
              "    }\n",
              "</style>\n",
              "<table border=\"1\" class=\"dataframe\">\n",
              "  <thead>\n",
              "    <tr style=\"text-align: right;\">\n",
              "      <th></th>\n",
              "      <th>Date</th>\n",
              "      <th>LR</th>\n",
              "      <th>SVM</th>\n",
              "    </tr>\n",
              "  </thead>\n",
              "  <tbody>\n",
              "    <tr>\n",
              "      <th>0</th>\n",
              "      <td>2020-04-25</td>\n",
              "      <td>1560529</td>\n",
              "      <td>3322586</td>\n",
              "    </tr>\n",
              "    <tr>\n",
              "      <th>1</th>\n",
              "      <td>2020-04-26</td>\n",
              "      <td>1582219</td>\n",
              "      <td>3500761</td>\n",
              "    </tr>\n",
              "    <tr>\n",
              "      <th>2</th>\n",
              "      <td>2020-04-27</td>\n",
              "      <td>1603909</td>\n",
              "      <td>3686599</td>\n",
              "    </tr>\n",
              "    <tr>\n",
              "      <th>3</th>\n",
              "      <td>2020-04-28</td>\n",
              "      <td>1625599</td>\n",
              "      <td>3880344</td>\n",
              "    </tr>\n",
              "    <tr>\n",
              "      <th>4</th>\n",
              "      <td>2020-04-29</td>\n",
              "      <td>1647289</td>\n",
              "      <td>4082245</td>\n",
              "    </tr>\n",
              "    <tr>\n",
              "      <th>5</th>\n",
              "      <td>2020-04-30</td>\n",
              "      <td>1668980</td>\n",
              "      <td>4292557</td>\n",
              "    </tr>\n",
              "    <tr>\n",
              "      <th>6</th>\n",
              "      <td>2020-05-01</td>\n",
              "      <td>1690670</td>\n",
              "      <td>4511540</td>\n",
              "    </tr>\n",
              "    <tr>\n",
              "      <th>7</th>\n",
              "      <td>2020-05-02</td>\n",
              "      <td>1712360</td>\n",
              "      <td>4739461</td>\n",
              "    </tr>\n",
              "    <tr>\n",
              "      <th>8</th>\n",
              "      <td>2020-05-03</td>\n",
              "      <td>1734050</td>\n",
              "      <td>4976588</td>\n",
              "    </tr>\n",
              "    <tr>\n",
              "      <th>9</th>\n",
              "      <td>2020-05-04</td>\n",
              "      <td>1755740</td>\n",
              "      <td>5223200</td>\n",
              "    </tr>\n",
              "    <tr>\n",
              "      <th>10</th>\n",
              "      <td>2020-05-05</td>\n",
              "      <td>1777431</td>\n",
              "      <td>5479577</td>\n",
              "    </tr>\n",
              "    <tr>\n",
              "      <th>11</th>\n",
              "      <td>2020-05-06</td>\n",
              "      <td>1799121</td>\n",
              "      <td>5746006</td>\n",
              "    </tr>\n",
              "    <tr>\n",
              "      <th>12</th>\n",
              "      <td>2020-05-07</td>\n",
              "      <td>1820811</td>\n",
              "      <td>6022781</td>\n",
              "    </tr>\n",
              "    <tr>\n",
              "      <th>13</th>\n",
              "      <td>2020-05-08</td>\n",
              "      <td>1842501</td>\n",
              "      <td>6310199</td>\n",
              "    </tr>\n",
              "    <tr>\n",
              "      <th>14</th>\n",
              "      <td>2020-05-09</td>\n",
              "      <td>1864191</td>\n",
              "      <td>6608566</td>\n",
              "    </tr>\n",
              "  </tbody>\n",
              "</table>\n",
              "</div>"
            ],
            "text/plain": [
              "         Date      LR     SVM\n",
              "0  2020-04-25 1560529 3322586\n",
              "1  2020-04-26 1582219 3500761\n",
              "2  2020-04-27 1603909 3686599\n",
              "3  2020-04-28 1625599 3880344\n",
              "4  2020-04-29 1647289 4082245\n",
              "5  2020-04-30 1668980 4292557\n",
              "6  2020-05-01 1690670 4511540\n",
              "7  2020-05-02 1712360 4739461\n",
              "8  2020-05-03 1734050 4976588\n",
              "9  2020-05-04 1755740 5223200\n",
              "10 2020-05-05 1777431 5479577\n",
              "11 2020-05-06 1799121 5746006\n",
              "12 2020-05-07 1820811 6022781\n",
              "13 2020-05-08 1842501 6310199\n",
              "14 2020-05-09 1864191 6608566"
            ]
          },
          "metadata": {
            "tags": []
          },
          "execution_count": 23
        }
      ]
    },
    {
      "cell_type": "code",
      "metadata": {
        "id": "3AX5sX_cgJbk",
        "colab_type": "code",
        "colab": {}
      },
      "source": [
        "model_train=datawise.iloc[:int(datawise.shape[0]*0.85)]\n",
        "valid= datawise.iloc[int(datawise.shape[0]*0.85):]"
      ],
      "execution_count": 0,
      "outputs": []
    },
    {
      "cell_type": "code",
      "metadata": {
        "id": "1I6-P-7ahRt_",
        "colab_type": "code",
        "colab": {}
      },
      "source": [
        "holt=Holt(np.asarray(model_train[\"Confirmed\"])).fit(smoothing_level=1.4,smoothing_slope=0.2)\n",
        "y_pred= valid.copy()\n",
        "y_pred[\"Holt\"]=holt.forecast(len(valid))"
      ],
      "execution_count": 0,
      "outputs": []
    },
    {
      "cell_type": "code",
      "metadata": {
        "id": "5NsM2Mxnh4QI",
        "colab_type": "code",
        "colab": {
          "base_uri": "https://localhost:8080/",
          "height": 514
        },
        "outputId": "33fbb8d6-cf0a-4374-aef6-13ad2d14adaf"
      },
      "source": [
        "holt_new_date=[]\n",
        "holt_new_prediction=[]\n",
        "for i in range(1,18):\n",
        "  holt_new_date.append(datawise.index[-1]+timedelta(days=i))\n",
        "  holt_new_prediction.append(holt.forecast((len(valid)+i))[-1])\n",
        "model_predictions[\"Holts Linear Model Prediction\"]=holt_new_prediction\n",
        "model_predictions.head(15)  "
      ],
      "execution_count": 28,
      "outputs": [
        {
          "output_type": "execute_result",
          "data": {
            "text/html": [
              "<div>\n",
              "<style scoped>\n",
              "    .dataframe tbody tr th:only-of-type {\n",
              "        vertical-align: middle;\n",
              "    }\n",
              "\n",
              "    .dataframe tbody tr th {\n",
              "        vertical-align: top;\n",
              "    }\n",
              "\n",
              "    .dataframe thead th {\n",
              "        text-align: right;\n",
              "    }\n",
              "</style>\n",
              "<table border=\"1\" class=\"dataframe\">\n",
              "  <thead>\n",
              "    <tr style=\"text-align: right;\">\n",
              "      <th></th>\n",
              "      <th>Date</th>\n",
              "      <th>LR</th>\n",
              "      <th>SVM</th>\n",
              "      <th>Holts Linear Model Prediction</th>\n",
              "    </tr>\n",
              "  </thead>\n",
              "  <tbody>\n",
              "    <tr>\n",
              "      <th>0</th>\n",
              "      <td>2020-04-25</td>\n",
              "      <td>1560529</td>\n",
              "      <td>3322586</td>\n",
              "      <td>2855246</td>\n",
              "    </tr>\n",
              "    <tr>\n",
              "      <th>1</th>\n",
              "      <td>2020-04-26</td>\n",
              "      <td>1582219</td>\n",
              "      <td>3500761</td>\n",
              "      <td>2933902</td>\n",
              "    </tr>\n",
              "    <tr>\n",
              "      <th>2</th>\n",
              "      <td>2020-04-27</td>\n",
              "      <td>1603909</td>\n",
              "      <td>3686599</td>\n",
              "      <td>3012558</td>\n",
              "    </tr>\n",
              "    <tr>\n",
              "      <th>3</th>\n",
              "      <td>2020-04-28</td>\n",
              "      <td>1625599</td>\n",
              "      <td>3880344</td>\n",
              "      <td>3091214</td>\n",
              "    </tr>\n",
              "    <tr>\n",
              "      <th>4</th>\n",
              "      <td>2020-04-29</td>\n",
              "      <td>1647289</td>\n",
              "      <td>4082245</td>\n",
              "      <td>3169870</td>\n",
              "    </tr>\n",
              "    <tr>\n",
              "      <th>5</th>\n",
              "      <td>2020-04-30</td>\n",
              "      <td>1668980</td>\n",
              "      <td>4292557</td>\n",
              "      <td>3248526</td>\n",
              "    </tr>\n",
              "    <tr>\n",
              "      <th>6</th>\n",
              "      <td>2020-05-01</td>\n",
              "      <td>1690670</td>\n",
              "      <td>4511540</td>\n",
              "      <td>3327182</td>\n",
              "    </tr>\n",
              "    <tr>\n",
              "      <th>7</th>\n",
              "      <td>2020-05-02</td>\n",
              "      <td>1712360</td>\n",
              "      <td>4739461</td>\n",
              "      <td>3405838</td>\n",
              "    </tr>\n",
              "    <tr>\n",
              "      <th>8</th>\n",
              "      <td>2020-05-03</td>\n",
              "      <td>1734050</td>\n",
              "      <td>4976588</td>\n",
              "      <td>3484494</td>\n",
              "    </tr>\n",
              "    <tr>\n",
              "      <th>9</th>\n",
              "      <td>2020-05-04</td>\n",
              "      <td>1755740</td>\n",
              "      <td>5223200</td>\n",
              "      <td>3563150</td>\n",
              "    </tr>\n",
              "    <tr>\n",
              "      <th>10</th>\n",
              "      <td>2020-05-05</td>\n",
              "      <td>1777431</td>\n",
              "      <td>5479577</td>\n",
              "      <td>3641806</td>\n",
              "    </tr>\n",
              "    <tr>\n",
              "      <th>11</th>\n",
              "      <td>2020-05-06</td>\n",
              "      <td>1799121</td>\n",
              "      <td>5746006</td>\n",
              "      <td>3720462</td>\n",
              "    </tr>\n",
              "    <tr>\n",
              "      <th>12</th>\n",
              "      <td>2020-05-07</td>\n",
              "      <td>1820811</td>\n",
              "      <td>6022781</td>\n",
              "      <td>3799118</td>\n",
              "    </tr>\n",
              "    <tr>\n",
              "      <th>13</th>\n",
              "      <td>2020-05-08</td>\n",
              "      <td>1842501</td>\n",
              "      <td>6310199</td>\n",
              "      <td>3877774</td>\n",
              "    </tr>\n",
              "    <tr>\n",
              "      <th>14</th>\n",
              "      <td>2020-05-09</td>\n",
              "      <td>1864191</td>\n",
              "      <td>6608566</td>\n",
              "      <td>3956430</td>\n",
              "    </tr>\n",
              "  </tbody>\n",
              "</table>\n",
              "</div>"
            ],
            "text/plain": [
              "         Date      LR     SVM  Holts Linear Model Prediction\n",
              "0  2020-04-25 1560529 3322586                        2855246\n",
              "1  2020-04-26 1582219 3500761                        2933902\n",
              "2  2020-04-27 1603909 3686599                        3012558\n",
              "3  2020-04-28 1625599 3880344                        3091214\n",
              "4  2020-04-29 1647289 4082245                        3169870\n",
              "5  2020-04-30 1668980 4292557                        3248526\n",
              "6  2020-05-01 1690670 4511540                        3327182\n",
              "7  2020-05-02 1712360 4739461                        3405838\n",
              "8  2020-05-03 1734050 4976588                        3484494\n",
              "9  2020-05-04 1755740 5223200                        3563150\n",
              "10 2020-05-05 1777431 5479577                        3641806\n",
              "11 2020-05-06 1799121 5746006                        3720462\n",
              "12 2020-05-07 1820811 6022781                        3799118\n",
              "13 2020-05-08 1842501 6310199                        3877774\n",
              "14 2020-05-09 1864191 6608566                        3956430"
            ]
          },
          "metadata": {
            "tags": []
          },
          "execution_count": 28
        }
      ]
    },
    {
      "cell_type": "code",
      "metadata": {
        "id": "Mlu_3AjAiqqe",
        "colab_type": "code",
        "colab": {}
      },
      "source": [
        "                                                                    #  !!!!!!!!!!Thank You!!!!!!!!!"
      ],
      "execution_count": 0,
      "outputs": []
    }
  ]
}