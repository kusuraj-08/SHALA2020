{
  "nbformat": 4,
  "nbformat_minor": 0,
  "metadata": {
    "colab": {
      "name": "covid'19.ipynb",
      "provenance": [],
      "authorship_tag": "ABX9TyOIvZ4tcsv9XhANvjeX+ezy",
      "include_colab_link": true
    },
    "kernelspec": {
      "name": "python3",
      "display_name": "Python 3"
    }
  },
  "cells": [
    {
      "cell_type": "markdown",
      "metadata": {
        "id": "view-in-github",
        "colab_type": "text"
      },
      "source": [
        "<a href=\"https://colab.research.google.com/github/kusuraj-08/SHALA2020/blob/master/covid'19.ipynb\" target=\"_parent\"><img src=\"https://colab.research.google.com/assets/colab-badge.svg\" alt=\"Open In Colab\"/></a>"
      ]
    },
    {
      "cell_type": "code",
      "metadata": {
        "id": "4yOTZOe_AodZ",
        "colab_type": "code",
        "colab": {}
      },
      "source": [
        "import pandas as pd \n",
        "import numpy as np\n",
        "import matplotlib.pyplot as plt\n",
        "import seaborn as sns\n",
        "import datetime as dt\n",
        "from datetime import timedelta\n",
        "from sklearn.linear_model import LinearRegression\n",
        "from sklearn.svm import SVR\n",
        "from statsmodels.tsa.api import Holt\n"
      ],
      "execution_count": 0,
      "outputs": []
    },
    {
      "cell_type": "code",
      "metadata": {
        "id": "30ieVY7lAGdB",
        "colab_type": "code",
        "colab": {}
      },
      "source": [
        "covid=pd.read_csv(\"covid_19_data.csv\")\n",
        "covid.head()"
      ],
      "execution_count": 0,
      "outputs": []
    },
    {
      "cell_type": "code",
      "metadata": {
        "id": "Gaia6rnpA9Ys",
        "colab_type": "code",
        "colab": {}
      },
      "source": [
        "print(\"Size/shape of the dataset\",covid.shape)\n",
        "print(\"Checking for null values\",covid.isnull().sum())\n",
        "print(\"Checking data-type\",covid.dtypes)"
      ],
      "execution_count": 0,
      "outputs": []
    },
    {
      "cell_type": "code",
      "metadata": {
        "id": "mDXC144SCDhk",
        "colab_type": "code",
        "colab": {}
      },
      "source": [
        "covid.drop([\"SNo\"],1,inplace=True)"
      ],
      "execution_count": 0,
      "outputs": []
    },
    {
      "cell_type": "code",
      "metadata": {
        "id": "7rYAhOXqCywT",
        "colab_type": "code",
        "colab": {}
      },
      "source": [
        "covid.isnull().sum()"
      ],
      "execution_count": 0,
      "outputs": []
    },
    {
      "cell_type": "code",
      "metadata": {
        "id": "t1g46ZENDDDU",
        "colab_type": "code",
        "colab": {}
      },
      "source": [
        "covid[\"ObservationDate\"]=pd.to_datetime(covid[\"ObservationDate\"])"
      ],
      "execution_count": 0,
      "outputs": []
    },
    {
      "cell_type": "code",
      "metadata": {
        "id": "GXR73e55DzZc",
        "colab_type": "code",
        "colab": {}
      },
      "source": [
        "covid[\"ObservationDate\"]"
      ],
      "execution_count": 0,
      "outputs": []
    },
    {
      "cell_type": "code",
      "metadata": {
        "id": "sI68Bgv1EDqn",
        "colab_type": "code",
        "colab": {}
      },
      "source": [
        "#Grouping different types of cases as per the date\n",
        "datawise=covid.groupby([\"ObservationDate\"]).agg({\"Confirmed\":\"sum\",\"Recovered\":\"sum\",\"Deaths\":\"sum\"})\n",
        "datawise"
      ],
      "execution_count": 0,
      "outputs": []
    },
    {
      "cell_type": "code",
      "metadata": {
        "id": "5EJ2IwGBGvS6",
        "colab_type": "code",
        "colab": {}
      },
      "source": [
        "print(\"Basic Information\")\n",
        "print(\"Total number of confirmed cases around the world\",datawise[\"Confirmed\"].iloc[-1])\n",
        "print(\"Total number of Recovered cases around the world\",datawise[\"Recovered\"].iloc[-1])\n",
        "print(\"Total number of Death cases around the world\",datawise[\"Deaths\"].iloc[-1])\n",
        "print(\"Total no. of active cases around the world\",(datawise['Confirmed'].iloc[-1]-datawise['Recovered'].iloc[-1]-datawise[\"Deaths\"].iloc[-1]))\n",
        "print(\"Total no. of closed cases around the world\",(datawise['Recovered'].iloc[-1]+datawise[\"Deaths\"].iloc[-1]))"
      ],
      "execution_count": 0,
      "outputs": []
    },
    {
      "cell_type": "code",
      "metadata": {
        "id": "fDZQzUSbJmMU",
        "colab_type": "code",
        "colab": {}
      },
      "source": [
        "plt.figure(figsize=(15,5))\n",
        "sns.barplot(x=datawise.index.date, y=datawise['Confirmed']-datawise['Recovered']-datawise[\"Deaths\"])\n",
        "plt.title(\"Distributions plot for Active Cases\")\n",
        "plt.xticks(rotation=90)"
      ],
      "execution_count": 0,
      "outputs": []
    },
    {
      "cell_type": "code",
      "metadata": {
        "id": "l_BOGCUJKtGH",
        "colab_type": "code",
        "colab": {
          "base_uri": "https://localhost:8080/",
          "height": 362
        },
        "outputId": "5a7dacdf-8e57-42a0-ac1c-bcc94ae5af0f"
      },
      "source": [
        "datawise['WeekofYear']=datawise.index.weekofyear\n",
        "weak_num=[]\n",
        "weakwise_confirmed=[]\n",
        "weakwise_recovered=[]\n",
        "weakwise_deaths=[]\n",
        "w=1\n",
        "for i in list(datawise[\"WeekofYear\"].unique()):\n",
        "  weakwise_confirmed.append(datawise[datawise[\"WeekofYear\"]==i][\"Confirmed\"].iloc[-1])\n",
        "  weakwise_recovered.append(datawise[datawise[\"WeekofYear\"]==i][\"Recovered\"].iloc[-1])\n",
        "  weakwise_deaths.append(datawise[datawise[\"WeekofYear\"]==i][\"Deaths\"].iloc[-1])\n",
        "  weak_num.append(w)\n",
        "  w=w+1\n",
        "plt.figure(figsize=(8,5))\n",
        "plt.plot(weak_num,weakwise_confirmed,linewidth=3) \n",
        "plt.plot(weak_num,weakwise_recovered,linewidth=3) \n",
        "plt.plot(weak_num,weakwise_deaths,linewidth=3)  \n",
        "plt.xlabel(\"WeakNumber\")\n",
        "plt.ylabel(\"Weakly Progress of different types of cases\")"
      ],
      "execution_count": 28,
      "outputs": [
        {
          "output_type": "execute_result",
          "data": {
            "text/plain": [
              "Text(0, 0.5, 'Weakly Progress of different types of cases')"
            ]
          },
          "metadata": {
            "tags": []
          },
          "execution_count": 28
        },
        {
          "output_type": "display_data",
          "data": {
            "image/png": "[encoded data removed]",
            "text/plain": [
              "<Figure size 576x360 with 1 Axes>"
            ]
          },
          "metadata": {
            "tags": [],
            "needs_background": "light"
          }
        }
      ]
    },
    {
      "cell_type": "code",
      "metadata": {
        "id": "hxgsBcA0YPnn",
        "colab_type": "code",
        "colab": {
          "base_uri": "https://localhost:8080/",
          "height": 295
        },
        "outputId": "fa263c86-36b7-47b9-e6ec-9244f6330310"
      },
      "source": [
        "fig,(ax1,ax2)=plt.subplots(1,2,figsize=(12,4))\n",
        "sns.barplot(x=weak_num,y=pd.Series(weakwise_confirmed).diff().fillna(0),ax=ax1)\n",
        "#sns.barplot(x=weak_num,y=pd.Series(weakwise_recovered).diff().fillna(0),ax=ax1)\n",
        "sns.barplot(x=weak_num,y=pd.Series(weakwise_deaths).diff().fillna(0),ax=ax2)\n",
        "ax1.set_xlabel(\"Weak Number\")\n",
        "ax2.set_xlabel(\"Weak Number\")\n",
        "ax1.set_ylabel(\"Number of death cases\")\n",
        "ax2.set_ylabel(\"Number of death cases\")\n",
        "ax1.set_title(\"Weekly increase in number of confirmed cases\")\n",
        "ax2.set_title(\"Weekly increase in number of death cases\")\n",
        "plt.show()\n"
      ],
      "execution_count": 29,
      "outputs": [
        {
          "output_type": "display_data",
          "data": {
            "image/png": "[encoded data removed]",
            "text/plain": [
              "<Figure size 864x288 with 2 Axes>"
            ]
          },
          "metadata": {
            "tags": [],
            "needs_background": "light"
          }
        }
      ]
    },
    {
      "cell_type": "code",
      "metadata": {
        "id": "CM8ismm_aJcI",
        "colab_type": "code",
        "colab": {}
      },
      "source": [
        "print(\"Average increase in number of Confirmed cases everyday:\",np.round(datawise[\"Confirmed\"].diff().fillna(0).mean()))\n",
        "print(\"Average increase in number of Recovered cases everyday:\",np.round(datawise[\"Recovered\"].diff().fillna(0).mean()))\n",
        "print(\"Average increase in number of Deaths cases everyday:\",np.round(datawise[\"Deaths\"].diff().fillna(0).mean()))\n",
        "plt.figure(figsize=(10,5))\n",
        "plt.plot(datawise[\"Confirmed\"].diff().fillna(0),label=\"Daily increase in confirmed cases\",linewidth=3)\n",
        "plt.plot(datawise[\"Recovered\"].diff().fillna(0),label=\"Daily increase in recovered cases\",linewidth=3)\n",
        "plt.plot(datawise[\"Deaths\"].diff().fillna(0),label=\"Daily increase in deaths cases\",linewidth=3)\n",
        "plt.xlabel(\"Timestamp\")\n",
        "plt.ylabel(\"Daily increases\")\n",
        "plt.title(\"Daily increases\")\n",
        "plt.legend()\n",
        "plt.xticks(rotation=90)"
      ],
      "execution_count": 0,
      "outputs": []
    },
    {
      "cell_type": "code",
      "metadata": {
        "id": "fRlsx42MdQTE",
        "colab_type": "code",
        "colab": {}
      },
      "source": [
        "#country wise analysis\n",
        "#Calculating Country wise Mortality rate\n",
        "countrywise=covid[covid[\"ObservationDate\"]==covid[\"ObservationDate\"].max()].groupby([\"Country/Region\"]).agg({\"Confirmed\":\"sum\",\"Recovered\":\"sum\",\"Deaths\":\"sum\"}).sort_values([\"Confirmed\"],ascending=False)\n",
        "countrywise[\"Mortality\"]=(countrywise[\"Deaths\"]/countrywise[\"Confirmed\"])*100\n",
        "countrywise[\"Mortality\"]=(countrywise[\"Recovered\"]/countrywise[\"Confirmed\"])*100"
      ],
      "execution_count": 0,
      "outputs": []
    },
    {
      "cell_type": "code",
      "metadata": {
        "id": "Rehd08Drfkfi",
        "colab_type": "code",
        "colab": {}
      },
      "source": [
        "fig,(ax1,ax2)=plt.subplots(1,2,figsize=(25,10))\n",
        "top_15confirmed=countrywise.sort_values([\"Confirmed\"],ascending=False).head(15)\n",
        "top_15deaths=countrywise.sort_values([\"Deaths\"],ascending=False).head(15)\n",
        "sns.barplot(x=top_15confirmed[\"Confirmed\"],y=top_15confirmed.index,ax=ax1)\n",
        "ax1.set_title(\"Top 15 countires as per number of confirmed cases\")\n",
        "sns.barplot(x=top_15deaths[\"Deaths\"],y=top_15deaths.index,ax=ax2)\n",
        "ax1.set_title(\"Top 15 countires as per number of deaths cases\")"
      ],
      "execution_count": 0,
      "outputs": []
    },
    {
      "cell_type": "code",
      "metadata": {
        "id": "uxbG3hoWg2O1",
        "colab_type": "code",
        "colab": {}
      },
      "source": [
        "#Data Analaysis for India\n",
        "india_data= covid[covid[\"Country/Region\"]==\"India\"]\n",
        "datawise_india=india_data.groupby([\"ObservationDate\"]).agg({\"Confirmed\":\"sum\",\"Recovered\":\"sum\",\"Deaths\":\"sum\"})\n",
        "print(datawise_india.iloc[-1])\n",
        "print(\"Total Active Cases\",datawise_india[\"Confirmed\"].iloc[-1]-datawise_india[\"Recovered\"].iloc[-1]-datawise_india[\"Deaths\"].iloc[-1])\n",
        "print(\"Total Closed cases\",datawise_india[\"Recovered\"].iloc[-1]+datawise_india[\"Deaths\"].iloc[-1])"
      ],
      "execution_count": 0,
      "outputs": []
    },
    {
      "cell_type": "code",
      "metadata": {
        "id": "ia4vcx4oiaWC",
        "colab_type": "code",
        "colab": {}
      },
      "source": [
        "#Data Analaysis for US\n",
        "Us_data= covid[covid[\"Country/Region\"]==\"US\"]\n",
        "datawise_us=Us_data.groupby([\"ObservationDate\"]).agg({\"Confirmed\":\"sum\",\"Recovered\":\"sum\",\"Deaths\":\"sum\"})\n",
        "print(datawise_us.iloc[-1])\n",
        "print(\"Total Active Cases\",datawise_us[\"Confirmed\"].iloc[-1]-datawise_us[\"Recovered\"].iloc[-1]-datawise_us[\"Deaths\"].iloc[-1])\n",
        "print(\"Total Closed cases\",datawise_us[\"Recovered\"].iloc[-1]+datawise_us[\"Deaths\"].iloc[-1])"
      ],
      "execution_count": 0,
      "outputs": []
    },
    {
      "cell_type": "code",
      "metadata": {
        "id": "9gFz9sgKTwC3",
        "colab_type": "code",
        "colab": {}
      },
      "source": [
        "datawise_india['WeekofYear']=datawise_india.index.weekofyear\n",
        "weak_num_india=[]\n",
        "weakwise_confirmed=[]\n",
        "weakwise_recovered=[]\n",
        "weakwise_deaths=[]\n",
        "w=1\n",
        "for i in list(datawise_india[\"WeekofYear\"].unique()):\n",
        "  weakwise_confirmed.append(datawise_india[datawise_india[\"WeekofYear\"]==i][\"Confirmed\"].iloc[-1])\n",
        "  weakwise_recovered.append(datawise_india[datawise_india[\"WeekofYear\"]==i][\"Recovered\"].iloc[-1])\n",
        "  weakwise_deaths.append(datawise_india[datawise_india[\"WeekofYear\"]==i][\"Deaths\"].iloc[-1])\n",
        "  weak_num_india.append(w)\n",
        "  w=w+1\n",
        "plt.figure(figsize=(8,5))\n",
        "plt.plot(weak_num_india,weakwise_confirmed,linewidth=3) \n",
        "plt.plot(weak_num_india,weakwise_recovered,linewidth=3) \n",
        "plt.plot(weak_num_india,weakwise_deaths,linewidth=3)  \n",
        "plt.xlabel(\"WeakNumber\")\n",
        "plt.ylabel(\"Weakly Progress of different types of cases\")"
      ],
      "execution_count": 0,
      "outputs": []
    },
    {
      "cell_type": "code",
      "metadata": {
        "id": "EEfRnga9JLZm",
        "colab_type": "code",
        "colab": {}
      },
      "source": [
        ""
      ],
      "execution_count": 0,
      "outputs": []
    }
  ]
}